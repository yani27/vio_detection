{
  "nbformat": 4,
  "nbformat_minor": 0,
  "metadata": {
    "colab": {
      "name": "data_builder.ipynb",
      "provenance": [],
      "collapsed_sections": []
    },
    "kernelspec": {
      "name": "python3",
      "display_name": "Python 3"
    },
    "accelerator": "TPU"
  },
  "cells": [
    {
      "cell_type": "code",
      "metadata": {
        "id": "S9Ldl4BKjBmv",
        "colab_type": "code",
        "outputId": "8740412d-1a13-4bf8-a98b-2a78835e39fe",
        "colab": {
          "base_uri": "https://localhost:8080/",
          "height": 34
        }
      },
      "source": [
        "!pip install Pillow==5.3.0"
      ],
      "execution_count": 0,
      "outputs": [
        {
          "output_type": "stream",
          "text": [
            "Requirement already satisfied: Pillow==5.3.0 in /usr/local/lib/python3.6/dist-packages (5.3.0)\n"
          ],
          "name": "stdout"
        }
      ]
    },
    {
      "cell_type": "code",
      "metadata": {
        "id": "QhXQuhKCh41J",
        "colab_type": "code",
        "colab": {}
      },
      "source": [
        "import os\n",
        "import cv2\n",
        "import matplotlib.pyplot as plt\n",
        "import pandas as pd\n",
        "from os import listdir\n",
        "from os.path import isfile, join\n",
        "import sys\n",
        "import argparse\n",
        "import numpy as np\n",
        "import pickle\n",
        "import PIL\n",
        "import random\n",
        "training_data = []"
      ],
      "execution_count": 0,
      "outputs": []
    },
    {
      "cell_type": "code",
      "metadata": {
        "id": "WWTffn4RZ-in",
        "colab_type": "code",
        "colab": {}
      },
      "source": [
        "def save_img(vid_path ,img_path):\n",
        "  #extraction les nom des vidéos\n",
        "  onlyfiles = [f for f in listdir(vid_path) if isfile(join(vid_path, f))]\n",
        "  vid = [] \n",
        "  \n",
        "  z=0\n",
        "  #creation des directory\n",
        "  try:\n",
        "      os.mkdir(img_path) \n",
        "  except OSError:\n",
        "      print (\"Creation of the directory %s failed\" % img_path)\n",
        "  else:\n",
        "      print (\"Successfully created the directory %s \" % img_path)\n",
        "  \n",
        "  #trouver le path des images\n",
        "  for img in onlyfiles:\n",
        "    path = img\n",
        "    vid.append(os.path.join(path, vid_path, path))\n",
        "    \n",
        "    #print(vid[z])\n",
        "    z+=1\n",
        "  print(\"hada howa range len ta3 vid\",range(len(vid)))  \n",
        "  \n",
        "  #extraction des image  \n",
        "  n=1\n",
        "  \n",
        "  for r in range(len(vid)):\n",
        "      \n",
        "    print(\"vidéo N° \",n, \"========================================\")   \n",
        "    cap= cv2.VideoCapture(vid[r])\n",
        "    i=1\n",
        "    print(\"extract images  frome video number :\",n)    \n",
        "        \n",
        "    while(cap.isOpened()):\n",
        "        ret, frame = cap.read()\n",
        "        if ret == False:\n",
        "            break\n",
        "        cv2.imwrite(os.path.join(img_path , 'img'+str(i)+'vid'+str(n)+'.jpeg'),frame)\n",
        "        i+=1\n",
        "        \n",
        "    n+=1\n",
        "    cap.release()\n",
        "    cv2.destroyAllWindows()\n",
        "     \n"
      ],
      "execution_count": 0,
      "outputs": []
    },
    {
      "cell_type": "code",
      "metadata": {
        "id": "1R5RjHusAuSJ",
        "colab_type": "code",
        "colab": {}
      },
      "source": [
        "\n",
        "def image_builder(DATA_DIR):\n",
        "  img_size = 160\n",
        "    \n",
        "  \n",
        "  categories = [\"fights_img\",\"noFights_img\"]\n",
        "\n",
        "  print(\" start building data :\")\n",
        "  for categorie in categories:\n",
        "    \n",
        "    print(\"pour le type  : \" ,categorie)\n",
        "    path = os.path.join(DATA_DIR , categorie)\n",
        "    #class_num = categories.index(categorie)\n",
        "    \n",
        "    for img in os.listdir(path):\n",
        "      \n",
        "      try:\n",
        "\n",
        "        img_array = cv2.imread(os.path.join(path , img) , cv2.IMREAD_GRAYSCALE)\n",
        "        new_array = cv2.resize(img_array ,(img_size ,img_size))\n",
        "        training_data.append([new_array , categorie])\n",
        "        \n",
        "      except Exception as e:\n",
        "        pass\n",
        "  #print(\"new array = \",new_array)      \n",
        "  random.shuffle(training_data)\n",
        "  print(\"training data = \",training_data[:5])\n",
        "  \n",
        "  #featuration de data\n",
        "  X = []\n",
        "  Y = []\n",
        "  \n",
        "  for features , label in training_data:\n",
        "    X.append(features)\n",
        "    Y.append(label)\n",
        "  X=np.array(X)\n",
        "  #.reshape(-1 , img_size , img_size , 1)\n",
        "  print(\"X = \",X)\n",
        "  print(\"save as pickle : \")\n",
        "  #souvgarder features\n",
        "  pickle_out = open(\"X.pickle\" , \"wb\")\n",
        "  pickle.dump(X , pickle_out)\n",
        "  pickle_out.close()\n",
        "  print(\"save features was done :)\")\n",
        "  #souvgarder labels\n",
        "  pickle_out = open(\"Y.pickle\" , \"wb\")\n",
        "  pickle.dump(Y , pickle_out)\n",
        "  pickle_out.close()\n",
        "  print(\"save labels was done :)\")\n"
      ],
      "execution_count": 0,
      "outputs": []
    },
    {
      "cell_type": "code",
      "metadata": {
        "id": "b1-BvVU65VNY",
        "colab_type": "code",
        "colab": {}
      },
      "source": [
        ""
      ],
      "execution_count": 0,
      "outputs": []
    },
    {
      "cell_type": "code",
      "metadata": {
        "id": "7xbx8r5O5uNA",
        "colab_type": "code",
        "colab": {}
      },
      "source": [
        ""
      ],
      "execution_count": 0,
      "outputs": []
    },
    {
      "cell_type": "code",
      "metadata": {
        "id": "B2CiwtF65r7T",
        "colab_type": "code",
        "colab": {}
      },
      "source": [
        ""
      ],
      "execution_count": 0,
      "outputs": []
    },
    {
      "cell_type": "code",
      "metadata": {
        "id": "8VDKfwGHExdF",
        "colab_type": "code",
        "colab": {}
      },
      "source": [
        ""
      ],
      "execution_count": 0,
      "outputs": []
    },
    {
      "cell_type": "code",
      "metadata": {
        "id": "XPW4Zh5TI_u1",
        "colab_type": "code",
        "outputId": "8ade27a5-0356-479b-cb0b-7177737dbbbb",
        "colab": {
          "base_uri": "https://localhost:8080/",
          "height": 54
        }
      },
      "source": [
        "'''fights_video = \"/content/drive/My Drive/code/Peliculas/fights_video\"\n",
        "fights_img = \"/content/fights_img\"\n",
        "noFights_img= \"/content/noFights_img\"\n",
        "noFights_video=\"/content/drive/My Drive/code/Peliculas/noFights_video\"\n",
        "#save_img(fights_video, fights_img)\n",
        "#save_img(noFights_video, noFights_img)\n",
        "#image_builder()\n",
        "X, Y = feat()\n",
        "save_pickle(X ,Y)'''"
      ],
      "execution_count": 0,
      "outputs": [
        {
          "output_type": "execute_result",
          "data": {
            "text/plain": [
              "'fights_video = \"/content/drive/My Drive/code/Peliculas/fights_video\"\\nfights_img = \"/content/fights_img\"\\nnoFights_img= \"/content/noFights_img\"\\nnoFights_video=\"/content/drive/My Drive/code/Peliculas/noFights_video\"\\n#save_img(fights_video, fights_img)\\n#save_img(noFights_video, noFights_img)\\n#image_builder()\\nX, Y = feat()\\nsave_pickle(X ,Y)'"
            ]
          },
          "metadata": {
            "tags": []
          },
          "execution_count": 11
        }
      ]
    },
    {
      "cell_type": "code",
      "metadata": {
        "id": "U2kljq7brZt_",
        "colab_type": "code",
        "colab": {}
      },
      "source": [
        ""
      ],
      "execution_count": 0,
      "outputs": []
    },
    {
      "cell_type": "code",
      "metadata": {
        "id": "1YDe3vU8nQ0b",
        "colab_type": "code",
        "colab": {}
      },
      "source": [
        ""
      ],
      "execution_count": 0,
      "outputs": []
    },
    {
      "cell_type": "code",
      "metadata": {
        "id": "S4GZAhVknSeR",
        "colab_type": "code",
        "outputId": "7107fc2f-ca3a-44b0-f4f3-f51a3a14f88f",
        "colab": {
          "base_uri": "https://localhost:8080/",
          "height": 54
        }
      },
      "source": [
        "\"\"\"def dataset_builder2():\n",
        "  \n",
        "  vidd =[]        \n",
        "  onlyimg = [c for c in listdir(fights_img) if isfile(join(fights_img, c))]\n",
        "\n",
        "  for im in onlyimg:   \n",
        "    path2 = im\n",
        "    vidd.append(os.path.join(path2, fights_img, path2)) \n",
        "  for s in vidd:\n",
        "    print(s)\n",
        "    try:\n",
        "      \n",
        "      #load img\n",
        "      image = PIL.Image.open(s)\n",
        "      #convert image to np array\n",
        "      data = np.asarray(image)\n",
        "      \n",
        "      #summarize shape \n",
        "      \n",
        "      #create pil img\n",
        "      image2= PIL.Image.fromarray(data)\n",
        "       \n",
        "      \n",
        "    except Exception as e:\n",
        "      print(\"eroor\")\n",
        "      pass\n",
        "    print(\"build is done ******\")     \n",
        "dataset_builder2()\n",
        "\"\"\""
      ],
      "execution_count": 0,
      "outputs": [
        {
          "output_type": "execute_result",
          "data": {
            "text/plain": [
              "'def dataset_builder2():\\n  \\n  vidd =[]        \\n  onlyimg = [c for c in listdir(fights_img) if isfile(join(fights_img, c))]\\n\\n  for im in onlyimg:   \\n    path2 = im\\n    vidd.append(os.path.join(path2, fights_img, path2)) \\n  for s in vidd:\\n    print(s)\\n    try:\\n      \\n      #load img\\n      image = PIL.Image.open(s)\\n      #convert image to np array\\n      data = np.asarray(image)\\n      \\n      #summarize shape \\n      \\n      #create pil img\\n      image2= PIL.Image.fromarray(data)\\n       \\n      \\n    except Exception as e:\\n      print(\"eroor\")\\n      pass\\n    print(\"build is done ******\")     \\ndataset_builder2()\\n'"
            ]
          },
          "metadata": {
            "tags": []
          },
          "execution_count": 12
        }
      ]
    }
  ]
}