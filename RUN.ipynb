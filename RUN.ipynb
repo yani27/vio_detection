{
  "nbformat": 4,
  "nbformat_minor": 0,
  "metadata": {
    "colab": {
      "name": "RUN.ipynb",
      "provenance": []
    },
    "kernelspec": {
      "name": "python3",
      "display_name": "Python 3"
    }
  },
  "cells": [
    {
      "cell_type": "code",
      "metadata": {
        "id": "JmjNHVQzsebG",
        "colab_type": "code",
        "colab": {
          "base_uri": "https://localhost:8080/",
          "height": 86
        },
        "outputId": "a295858d-cd71-4141-eac7-5e857c67cc9f"
      },
      "source": [
        "!pip install import_ipynb\n",
        "!pip install h5py"
      ],
      "execution_count": 46,
      "outputs": [
        {
          "output_type": "stream",
          "text": [
            "Requirement already satisfied: import_ipynb in /usr/local/lib/python3.6/dist-packages (0.1.3)\n",
            "Requirement already satisfied: h5py in /usr/local/lib/python3.6/dist-packages (2.10.0)\n",
            "Requirement already satisfied: six in /usr/local/lib/python3.6/dist-packages (from h5py) (1.12.0)\n",
            "Requirement already satisfied: numpy>=1.7 in /usr/local/lib/python3.6/dist-packages (from h5py) (1.18.4)\n"
          ],
          "name": "stdout"
        }
      ]
    },
    {
      "cell_type": "code",
      "metadata": {
        "id": "5QrZNuKigugv",
        "colab_type": "code",
        "colab": {}
      },
      "source": [
        ""
      ],
      "execution_count": 0,
      "outputs": []
    },
    {
      "cell_type": "code",
      "metadata": {
        "id": "BW_X2kAh575F",
        "colab_type": "code",
        "colab": {}
      },
      "source": [
        "import import_ipynb\n",
        "import keras\n",
        "import data_builder\n",
        "import model_builder\n",
        "import matplotlib\n",
        "matplotlib.use(\"Agg\")\n",
        "from sklearn.preprocessing import LabelBinarizer\n",
        "from sklearn.model_selection import train_test_split\n",
        "from sklearn.metrics import classification_report\n",
        "from keras.preprocessing.image import ImageDataGenerator\n",
        "from keras.optimizers import Adam\n",
        "from keras.regularizers import l2\n",
        "from keras.utils.np_utils import to_categorical\n",
        "from keras.models import model_from_json\n",
        "from imutils import paths\n",
        "import matplotlib.pyplot as plt\n",
        "import tensorflow \n",
        "import pickle \n",
        "import numpy as np\n",
        "import cv2\n",
        "\n",
        "\n"
      ],
      "execution_count": 0,
      "outputs": []
    },
    {
      "cell_type": "code",
      "metadata": {
        "id": "GZEYGMhTszgO",
        "colab_type": "code",
        "colab": {}
      },
      "source": [
        "\n",
        "fights_video = \"/content/drive/My Drive/code/fight-detection-surv-dataset/fights_video\"\n",
        "fights_img = \"/content/fights_img\"\n",
        "noFights_img= \"/content/noFights_img\"\n",
        "noFights_video=\"/content/drive/My Drive/code/fight-detection-surv-dataset/noFights_video\"\n",
        "data_dir = \"/content\"\n",
        "data_builder.save_img(fights_video, fights_img)\n",
        "data_builder.save_img(noFights_video, noFights_img)\n",
        "\n",
        "#sudo apt install kazamdata_dir = \"/content\"\n",
        "\n",
        "data_builder.image_builder(data_dir)\n",
        " "
      ],
      "execution_count": 0,
      "outputs": []
    },
    {
      "cell_type": "code",
      "metadata": {
        "id": "GmD-x7dPd1Qw",
        "colab_type": "code",
        "colab": {}
      },
      "source": [
        "X = pickle.load(open(\"X.pickle\" , \"rb\"))\n",
        "Y = pickle.load(open(\"Y.pickle\" , 'rb'))\n",
        "y = np.array(Y)\n",
        "\n",
        "X = X/255.0 \n",
        "print(len(X))\n",
        "print(len(y))\n",
        "\n",
        "# partition the data into training and testing splits using 75% of\n",
        "# the data for training and the remaining 25% for testing\n",
        "(trainX, testX, trainY, testY) = train_test_split(X, Y,\n",
        "\ttest_size=0.25, stratify=Y, random_state=42)\n",
        "\n",
        "# construct the training image generator for data augmentation\n",
        "aug = ImageDataGenerator(rotation_range=20, zoom_range=0.15,\n",
        "\twidth_shift_range=0.2, height_shift_range=0.2, shear_range=0.15,\n",
        "\thorizontal_flip=True, fill_mode=\"nearest\")\n",
        "\n",
        "# initialize the optimizer and model\n",
        "print(\"[INFO] compiling model...\")\n",
        "epo = 60\n",
        "opt = Adam(lr=1e-4, decay=1e-4 / epo)\n",
        "\n",
        "lb = LabelBinarizer()\n",
        "trainY = lb.fit_transform(trainY)\n",
        "testY = lb.fit_transform(testY)\n",
        "print(trainX.shape)\n",
        "\n",
        "#build the model\n",
        "model = model_builder.StridedNet.build(width=160, height=160, depth=1,\n",
        "\tclasses= len(lb.classes_), reg=l2(0.0005))\n",
        "\n",
        "\n"
      ],
      "execution_count": 0,
      "outputs": []
    },
    {
      "cell_type": "code",
      "metadata": {
        "id": "GVoPmTvkEitK",
        "colab_type": "code",
        "outputId": "146c7aaa-c094-489a-ad49-5566bbd6d16a",
        "colab": {
          "base_uri": "https://localhost:8080/",
          "height": 52
        }
      },
      "source": [
        "trainX = trainX.reshape(trainX.shape[0], trainX.shape[1], trainX.shape[2], 1)\n",
        "testX = testX.reshape(testX.shape[0], testX.shape[1], testX.shape[2], 1)\n",
        "\n",
        "print(trainX.shape)\n",
        "print(testX.shape)"
      ],
      "execution_count": 5,
      "outputs": [
        {
          "output_type": "stream",
          "text": [
            "(12908, 160, 160, 1)\n",
            "(4303, 160, 160, 1)\n"
          ],
          "name": "stdout"
        }
      ]
    },
    {
      "cell_type": "code",
      "metadata": {
        "id": "-FoaJGapH750",
        "colab_type": "code",
        "colab": {}
      },
      "source": [
        ""
      ],
      "execution_count": 0,
      "outputs": []
    },
    {
      "cell_type": "code",
      "metadata": {
        "id": "6jVHC7SPJ6T8",
        "colab_type": "code",
        "colab": {
          "base_uri": "https://localhost:8080/",
          "height": 573
        },
        "outputId": "87e75b45-382e-4ea1-a4c2-7295f3fde3e5"
      },
      "source": [
        "model.compile(loss=\"binary_crossentropy\", optimizer=opt,\n",
        "\tmetrics=[\"accuracy\"])\n",
        "model.summary()"
      ],
      "execution_count": 6,
      "outputs": [
        {
          "output_type": "stream",
          "text": [
            "Model: \"sequential_1\"\n",
            "_________________________________________________________________\n",
            "Layer (type)                 Output Shape              Param #   \n",
            "=================================================================\n",
            "conv2d_1 (Conv2D)            (None, 158, 158, 32)      320       \n",
            "_________________________________________________________________\n",
            "max_pooling2d_1 (MaxPooling2 (None, 79, 79, 32)        0         \n",
            "_________________________________________________________________\n",
            "conv2d_2 (Conv2D)            (None, 77, 77, 64)        18496     \n",
            "_________________________________________________________________\n",
            "max_pooling2d_2 (MaxPooling2 (None, 38, 38, 64)        0         \n",
            "_________________________________________________________________\n",
            "conv2d_3 (Conv2D)            (None, 36, 36, 64)        36928     \n",
            "_________________________________________________________________\n",
            "max_pooling2d_3 (MaxPooling2 (None, 18, 18, 64)        0         \n",
            "_________________________________________________________________\n",
            "flatten_1 (Flatten)          (None, 20736)             0         \n",
            "_________________________________________________________________\n",
            "dense_1 (Dense)              (None, 512)               10617344  \n",
            "_________________________________________________________________\n",
            "activation_1 (Activation)    (None, 512)               0         \n",
            "_________________________________________________________________\n",
            "dropout_1 (Dropout)          (None, 512)               0         \n",
            "_________________________________________________________________\n",
            "dense_2 (Dense)              (None, 1)                 513       \n",
            "_________________________________________________________________\n",
            "activation_2 (Activation)    (None, 1)                 0         \n",
            "=================================================================\n",
            "Total params: 10,673,601\n",
            "Trainable params: 10,673,601\n",
            "Non-trainable params: 0\n",
            "_________________________________________________________________\n"
          ],
          "name": "stdout"
        }
      ]
    },
    {
      "cell_type": "code",
      "metadata": {
        "id": "5w1NPR7rEOG4",
        "colab_type": "code",
        "colab": {}
      },
      "source": [
        "# train the network\n",
        "print(\"[INFO] training network for {} epochs...\".format(epo))\n",
        "H = model.fit_generator(aug.flow(trainX, trainY, batch_size=32),\n",
        "\tvalidation_data=(testX, testY), steps_per_epoch=len(trainX) // 32,\n",
        "\tepochs=60)"
      ],
      "execution_count": 0,
      "outputs": []
    },
    {
      "cell_type": "code",
      "metadata": {
        "id": "xBS1TbX3luJh",
        "colab_type": "code",
        "colab": {}
      },
      "source": [
        "classes = [\"fights\",\"nofight\"]\n",
        "print(\"[INFO] evaluating network...\")\n",
        "predictions = model.predict(testX, batch_size=32)\n",
        "print(classification_report(testY.argmax(axis=1),\n",
        "\tpredictions.argmax(axis=1), target_names=None))"
      ],
      "execution_count": 0,
      "outputs": []
    },
    {
      "cell_type": "code",
      "metadata": {
        "id": "lO_dwkZBebMh",
        "colab_type": "code",
        "colab": {}
      },
      "source": [
        "N = epo\n",
        "plt.style.use(\"ggplot\")\n",
        "plt.figure()\n",
        "plt.plot(np.arange(0, N), H.history[\"loss\"], label=\"train_loss\")\n",
        "plt.plot(np.arange(0, N), H.history[\"val_loss\"], label=\"val_loss\")\n",
        "plt.plot(np.arange(0, N), H.history[\"accuracy\"], label=\"train_acc\")\n",
        "plt.plot(np.arange(0, N), H.history[\"val_accuracy\"], label=\"val_acc\")\n",
        "plt.title(\"Training Loss and Accuracy on Dataset\")\n",
        "plt.xlabel(\"Epoch #\")\n",
        "plt.ylabel(\"Loss/Accuracy\")\n",
        "plt.legend(loc=\"lower left\")\n",
        "plt.savefig(\"plot.png\")"
      ],
      "execution_count": 0,
      "outputs": []
    },
    {
      "cell_type": "code",
      "metadata": {
        "id": "q-lcAevYUCm-",
        "colab_type": "code",
        "colab": {}
      },
      "source": [
        "# Calling `save('my_model.h5')` creates a h5 file and json file.\n",
        "#json \n",
        "model_json = model.to_json()\n",
        "with open(\"/content/drive/My Drive/code/model.json\", \"w\") as json_file:\n",
        "    json_file.write(model_json)\n",
        "#HDF5\n",
        "model.save('/content/drive/My Drive/code/my_h5_model.h5')\n"
      ],
      "execution_count": 0,
      "outputs": []
    },
    {
      "cell_type": "code",
      "metadata": {
        "id": "lUmp3gnxYIOJ",
        "colab_type": "code",
        "colab": {}
      },
      "source": [
        "# preparation de l'image de test\n",
        "image_size=160\n",
        "categorie=\"fights_img\"\n",
        "test_data = []\n",
        "path = \"/content/drive/My Drive/code/index.jpeg\"\n",
        "image_array = cv2.imread(path, cv2.IMREAD_GRAYSCALE)\n",
        "new_array = cv2.resize(image_array ,(image_size ,image_size))\n",
        "test_data.append([new_array , categorie])\n",
        "\n",
        "        "
      ],
      "execution_count": 0,
      "outputs": []
    },
    {
      "cell_type": "code",
      "metadata": {
        "id": "K1HH1-Yjch34",
        "colab_type": "code",
        "colab": {}
      },
      "source": [
        "x = []\n",
        "y = []\n",
        "for features , label in test_data:\n",
        "    x.append(features)\n",
        "    y.append(label)\n",
        "x = np.array(x)\n",
        "x = x/255.0\n",
        "x = x.reshape(x.shape[0], x.shape[1], x.shape[2], 1)\n",
        "print(x.shape)\n",
        "y = lb.fit_transform(y)\n",
        "print(y)\n",
        "\n"
      ],
      "execution_count": 0,
      "outputs": []
    },
    {
      "cell_type": "code",
      "metadata": {
        "id": "qgbYp5ovd4aI",
        "colab_type": "code",
        "colab": {
          "base_uri": "https://localhost:8080/",
          "height": 52
        },
        "outputId": "64c3d71b-25f3-4a68-ac5b-5d8f1f0b8ed5"
      },
      "source": [
        "# load json and create model\n",
        "json_file = open('/content/drive/My Drive/code/model.json', 'r')\n",
        "loaded_model_json = json_file.read()\n",
        "json_file.close()\n",
        "loaded_model = model_from_json(loaded_model_json)\n",
        "# load weights into new model\n",
        "loaded_model.load_weights(\"/content/drive/My Drive/code/my_h5_model.h5\")\n",
        "print(\"Loaded model from disk\")\n",
        " \n",
        "# evaluate loaded model on test data\n",
        "loaded_model.compile(loss='binary_crossentropy', optimizer='adam', metrics=['accuracy'])\n",
        "score = loaded_model.evaluate(testX, testY, verbose=0)\n",
        "print(\"%s: %.2f%%\" % (loaded_model.metrics_names[1], score[1]*100))"
      ],
      "execution_count": 54,
      "outputs": [
        {
          "output_type": "stream",
          "text": [
            "Loaded model from disk\n",
            "accuracy: 93.70%\n"
          ],
          "name": "stdout"
        }
      ]
    },
    {
      "cell_type": "code",
      "metadata": {
        "id": "rNLFyLLfjfNp",
        "colab_type": "code",
        "colab": {}
      },
      "source": [
        ""
      ],
      "execution_count": 0,
      "outputs": []
    },
    {
      "cell_type": "code",
      "metadata": {
        "id": "GOXUb5mpjWbb",
        "colab_type": "code",
        "colab": {}
      },
      "source": [
        ""
      ],
      "execution_count": 0,
      "outputs": []
    },
    {
      "cell_type": "code",
      "metadata": {
        "id": "DrKtEC-cjC5w",
        "colab_type": "code",
        "colab": {}
      },
      "source": [
        ""
      ],
      "execution_count": 0,
      "outputs": []
    },
    {
      "cell_type": "code",
      "metadata": {
        "id": "OhavoNCsgLIE",
        "colab_type": "code",
        "colab": {}
      },
      "source": [
        ""
      ],
      "execution_count": 0,
      "outputs": []
    }
  ]
}